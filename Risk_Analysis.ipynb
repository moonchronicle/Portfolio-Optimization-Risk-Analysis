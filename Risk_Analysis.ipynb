{
  "nbformat": 4,
  "nbformat_minor": 0,
  "metadata": {
    "colab": {
      "provenance": []
    },
    "kernelspec": {
      "name": "python3",
      "display_name": "Python 3"
    },
    "language_info": {
      "name": "python"
    }
  },
  "cells": [
    {
      "cell_type": "code",
      "execution_count": 34,
      "metadata": {
        "colab": {
          "base_uri": "https://localhost:8080/"
        },
        "id": "XF6qHkmMXGkc",
        "outputId": "21ee88cc-5aac-4016-f707-923881121833"
      },
      "outputs": [
        {
          "output_type": "stream",
          "name": "stdout",
          "text": [
            "The autoreload extension is already loaded. To reload it, use:\n",
            "  %reload_ext autoreload\n"
          ]
        }
      ],
      "source": [
        "import numpy as np\n",
        "import pandas as pd\n",
        "import matplotlib.pyplot as plt\n",
        "import scipy.stats\n",
        "from scipy.optimize import minimize\n",
        "import yfinance as yf\n",
        "import seaborn as sns\n",
        "%load_ext autoreload\n",
        "%autoreload 2\n",
        "import risk_module_d as rk"
      ]
    },
    {
      "cell_type": "markdown",
      "source": [
        "# Markowitz Portfolio Optimization"
      ],
      "metadata": {
        "id": "MrbUfVMRE-vs"
      }
    },
    {
      "cell_type": "code",
      "source": [
        "#getting data for the returns from yfinance\n",
        "tickers = ['TATAMOTORS.NS','DABUR.NS','BAJAJ-AUTO.NS','BERGEPAINT.NS','HAVELLS.NS','HDFCBANK.NS','TORNTPHARM.NS','HINDUNILVR.NS','RELIANCE.NS','TITAN.NS']\n",
        "data = yf.download(tickers, start='2008-6-2', end='2023-6-2') #fetching monthly data for 15 years\n",
        "price_data=data['Close'] #taking the closing price to determine returns\n",
        "returns = price_data[tickers].pct_change().dropna()\n",
        "returns.dropna(inplace=True)\n",
        "rets = pd.DataFrame(returns)\n",
        "\n"
      ],
      "metadata": {
        "colab": {
          "base_uri": "https://localhost:8080/"
        },
        "id": "q8Vf2TIAjGZc",
        "outputId": "7ae6323c-012a-4c31-972c-3812e75d3382"
      },
      "execution_count": 33,
      "outputs": [
        {
          "output_type": "stream",
          "name": "stdout",
          "text": [
            "[*********************100%***********************]  10 of 10 completed\n"
          ]
        }
      ]
    },
    {
      "cell_type": "code",
      "source": [
        "cov_matrix = rets.cov() #to get covariance between the assets\n",
        "cov_matrix.head()"
      ],
      "metadata": {
        "id": "YHrBIP5Vk-h-",
        "colab": {
          "base_uri": "https://localhost:8080/",
          "height": 287
        },
        "outputId": "00b25491-b32c-4a67-ad32-075cc40a3753"
      },
      "execution_count": 51,
      "outputs": [
        {
          "output_type": "execute_result",
          "data": {
            "text/plain": [
              "               TATAMOTORS.NS  DABUR.NS  BAJAJ-AUTO.NS  BERGEPAINT.NS  \\\n",
              "TATAMOTORS.NS       0.000835  0.000115       0.000183       0.000140   \n",
              "DABUR.NS            0.000115  0.000271       0.000068       0.000079   \n",
              "BAJAJ-AUTO.NS       0.000183  0.000068       0.000354       0.000082   \n",
              "BERGEPAINT.NS       0.000140  0.000079       0.000082       0.000457   \n",
              "HAVELLS.NS          0.000247  0.000101       0.000123       0.000128   \n",
              "\n",
              "               HAVELLS.NS  HDFCBANK.NS  TORNTPHARM.NS  HINDUNILVR.NS  \\\n",
              "TATAMOTORS.NS    0.000247     0.000193       0.000123       0.000088   \n",
              "DABUR.NS         0.000101     0.000068       0.000060       0.000090   \n",
              "BAJAJ-AUTO.NS    0.000123     0.000121       0.000076       0.000072   \n",
              "BERGEPAINT.NS    0.000128     0.000075       0.000073       0.000069   \n",
              "HAVELLS.NS       0.000561     0.000128       0.000083       0.000073   \n",
              "\n",
              "               RELIANCE.NS  TITAN.NS  \n",
              "TATAMOTORS.NS     0.000249  0.000214  \n",
              "DABUR.NS          0.000079  0.000085  \n",
              "BAJAJ-AUTO.NS     0.000133  0.000127  \n",
              "BERGEPAINT.NS     0.000098  0.000105  \n",
              "HAVELLS.NS        0.000150  0.000146  "
            ],
            "text/html": [
              "\n",
              "\n",
              "  <div id=\"df-44cf219a-e956-4e90-8cb5-c65f5bfd0ab9\">\n",
              "    <div class=\"colab-df-container\">\n",
              "      <div>\n",
              "<style scoped>\n",
              "    .dataframe tbody tr th:only-of-type {\n",
              "        vertical-align: middle;\n",
              "    }\n",
              "\n",
              "    .dataframe tbody tr th {\n",
              "        vertical-align: top;\n",
              "    }\n",
              "\n",
              "    .dataframe thead th {\n",
              "        text-align: right;\n",
              "    }\n",
              "</style>\n",
              "<table border=\"1\" class=\"dataframe\">\n",
              "  <thead>\n",
              "    <tr style=\"text-align: right;\">\n",
              "      <th></th>\n",
              "      <th>TATAMOTORS.NS</th>\n",
              "      <th>DABUR.NS</th>\n",
              "      <th>BAJAJ-AUTO.NS</th>\n",
              "      <th>BERGEPAINT.NS</th>\n",
              "      <th>HAVELLS.NS</th>\n",
              "      <th>HDFCBANK.NS</th>\n",
              "      <th>TORNTPHARM.NS</th>\n",
              "      <th>HINDUNILVR.NS</th>\n",
              "      <th>RELIANCE.NS</th>\n",
              "      <th>TITAN.NS</th>\n",
              "    </tr>\n",
              "  </thead>\n",
              "  <tbody>\n",
              "    <tr>\n",
              "      <th>TATAMOTORS.NS</th>\n",
              "      <td>0.000835</td>\n",
              "      <td>0.000115</td>\n",
              "      <td>0.000183</td>\n",
              "      <td>0.000140</td>\n",
              "      <td>0.000247</td>\n",
              "      <td>0.000193</td>\n",
              "      <td>0.000123</td>\n",
              "      <td>0.000088</td>\n",
              "      <td>0.000249</td>\n",
              "      <td>0.000214</td>\n",
              "    </tr>\n",
              "    <tr>\n",
              "      <th>DABUR.NS</th>\n",
              "      <td>0.000115</td>\n",
              "      <td>0.000271</td>\n",
              "      <td>0.000068</td>\n",
              "      <td>0.000079</td>\n",
              "      <td>0.000101</td>\n",
              "      <td>0.000068</td>\n",
              "      <td>0.000060</td>\n",
              "      <td>0.000090</td>\n",
              "      <td>0.000079</td>\n",
              "      <td>0.000085</td>\n",
              "    </tr>\n",
              "    <tr>\n",
              "      <th>BAJAJ-AUTO.NS</th>\n",
              "      <td>0.000183</td>\n",
              "      <td>0.000068</td>\n",
              "      <td>0.000354</td>\n",
              "      <td>0.000082</td>\n",
              "      <td>0.000123</td>\n",
              "      <td>0.000121</td>\n",
              "      <td>0.000076</td>\n",
              "      <td>0.000072</td>\n",
              "      <td>0.000133</td>\n",
              "      <td>0.000127</td>\n",
              "    </tr>\n",
              "    <tr>\n",
              "      <th>BERGEPAINT.NS</th>\n",
              "      <td>0.000140</td>\n",
              "      <td>0.000079</td>\n",
              "      <td>0.000082</td>\n",
              "      <td>0.000457</td>\n",
              "      <td>0.000128</td>\n",
              "      <td>0.000075</td>\n",
              "      <td>0.000073</td>\n",
              "      <td>0.000069</td>\n",
              "      <td>0.000098</td>\n",
              "      <td>0.000105</td>\n",
              "    </tr>\n",
              "    <tr>\n",
              "      <th>HAVELLS.NS</th>\n",
              "      <td>0.000247</td>\n",
              "      <td>0.000101</td>\n",
              "      <td>0.000123</td>\n",
              "      <td>0.000128</td>\n",
              "      <td>0.000561</td>\n",
              "      <td>0.000128</td>\n",
              "      <td>0.000083</td>\n",
              "      <td>0.000073</td>\n",
              "      <td>0.000150</td>\n",
              "      <td>0.000146</td>\n",
              "    </tr>\n",
              "  </tbody>\n",
              "</table>\n",
              "</div>\n",
              "      <button class=\"colab-df-convert\" onclick=\"convertToInteractive('df-44cf219a-e956-4e90-8cb5-c65f5bfd0ab9')\"\n",
              "              title=\"Convert this dataframe to an interactive table.\"\n",
              "              style=\"display:none;\">\n",
              "\n",
              "  <svg xmlns=\"http://www.w3.org/2000/svg\" height=\"24px\"viewBox=\"0 0 24 24\"\n",
              "       width=\"24px\">\n",
              "    <path d=\"M0 0h24v24H0V0z\" fill=\"none\"/>\n",
              "    <path d=\"M18.56 5.44l.94 2.06.94-2.06 2.06-.94-2.06-.94-.94-2.06-.94 2.06-2.06.94zm-11 1L8.5 8.5l.94-2.06 2.06-.94-2.06-.94L8.5 2.5l-.94 2.06-2.06.94zm10 10l.94 2.06.94-2.06 2.06-.94-2.06-.94-.94-2.06-.94 2.06-2.06.94z\"/><path d=\"M17.41 7.96l-1.37-1.37c-.4-.4-.92-.59-1.43-.59-.52 0-1.04.2-1.43.59L10.3 9.45l-7.72 7.72c-.78.78-.78 2.05 0 2.83L4 21.41c.39.39.9.59 1.41.59.51 0 1.02-.2 1.41-.59l7.78-7.78 2.81-2.81c.8-.78.8-2.07 0-2.86zM5.41 20L4 18.59l7.72-7.72 1.47 1.35L5.41 20z\"/>\n",
              "  </svg>\n",
              "      </button>\n",
              "\n",
              "\n",
              "\n",
              "    <div id=\"df-16306513-563c-40c5-b232-4d2abf993d29\">\n",
              "      <button class=\"colab-df-quickchart\" onclick=\"quickchart('df-16306513-563c-40c5-b232-4d2abf993d29')\"\n",
              "              title=\"Suggest charts.\"\n",
              "              style=\"display:none;\">\n",
              "\n",
              "<svg xmlns=\"http://www.w3.org/2000/svg\" height=\"24px\"viewBox=\"0 0 24 24\"\n",
              "     width=\"24px\">\n",
              "    <g>\n",
              "        <path d=\"M19 3H5c-1.1 0-2 .9-2 2v14c0 1.1.9 2 2 2h14c1.1 0 2-.9 2-2V5c0-1.1-.9-2-2-2zM9 17H7v-7h2v7zm4 0h-2V7h2v10zm4 0h-2v-4h2v4z\"/>\n",
              "    </g>\n",
              "</svg>\n",
              "      </button>\n",
              "    </div>\n",
              "\n",
              "<style>\n",
              "  .colab-df-quickchart {\n",
              "    background-color: #E8F0FE;\n",
              "    border: none;\n",
              "    border-radius: 50%;\n",
              "    cursor: pointer;\n",
              "    display: none;\n",
              "    fill: #1967D2;\n",
              "    height: 32px;\n",
              "    padding: 0 0 0 0;\n",
              "    width: 32px;\n",
              "  }\n",
              "\n",
              "  .colab-df-quickchart:hover {\n",
              "    background-color: #E2EBFA;\n",
              "    box-shadow: 0px 1px 2px rgba(60, 64, 67, 0.3), 0px 1px 3px 1px rgba(60, 64, 67, 0.15);\n",
              "    fill: #174EA6;\n",
              "  }\n",
              "\n",
              "  [theme=dark] .colab-df-quickchart {\n",
              "    background-color: #3B4455;\n",
              "    fill: #D2E3FC;\n",
              "  }\n",
              "\n",
              "  [theme=dark] .colab-df-quickchart:hover {\n",
              "    background-color: #434B5C;\n",
              "    box-shadow: 0px 1px 3px 1px rgba(0, 0, 0, 0.15);\n",
              "    filter: drop-shadow(0px 1px 2px rgba(0, 0, 0, 0.3));\n",
              "    fill: #FFFFFF;\n",
              "  }\n",
              "</style>\n",
              "\n",
              "    <script>\n",
              "      async function quickchart(key) {\n",
              "        const containerElement = document.querySelector('#' + key);\n",
              "        const charts = await google.colab.kernel.invokeFunction(\n",
              "            'suggestCharts', [key], {});\n",
              "      }\n",
              "    </script>\n",
              "\n",
              "      <script>\n",
              "\n",
              "function displayQuickchartButton(domScope) {\n",
              "  let quickchartButtonEl =\n",
              "    domScope.querySelector('#df-16306513-563c-40c5-b232-4d2abf993d29 button.colab-df-quickchart');\n",
              "  quickchartButtonEl.style.display =\n",
              "    google.colab.kernel.accessAllowed ? 'block' : 'none';\n",
              "}\n",
              "\n",
              "        displayQuickchartButton(document);\n",
              "      </script>\n",
              "      <style>\n",
              "    .colab-df-container {\n",
              "      display:flex;\n",
              "      flex-wrap:wrap;\n",
              "      gap: 12px;\n",
              "    }\n",
              "\n",
              "    .colab-df-convert {\n",
              "      background-color: #E8F0FE;\n",
              "      border: none;\n",
              "      border-radius: 50%;\n",
              "      cursor: pointer;\n",
              "      display: none;\n",
              "      fill: #1967D2;\n",
              "      height: 32px;\n",
              "      padding: 0 0 0 0;\n",
              "      width: 32px;\n",
              "    }\n",
              "\n",
              "    .colab-df-convert:hover {\n",
              "      background-color: #E2EBFA;\n",
              "      box-shadow: 0px 1px 2px rgba(60, 64, 67, 0.3), 0px 1px 3px 1px rgba(60, 64, 67, 0.15);\n",
              "      fill: #174EA6;\n",
              "    }\n",
              "\n",
              "    [theme=dark] .colab-df-convert {\n",
              "      background-color: #3B4455;\n",
              "      fill: #D2E3FC;\n",
              "    }\n",
              "\n",
              "    [theme=dark] .colab-df-convert:hover {\n",
              "      background-color: #434B5C;\n",
              "      box-shadow: 0px 1px 3px 1px rgba(0, 0, 0, 0.15);\n",
              "      filter: drop-shadow(0px 1px 2px rgba(0, 0, 0, 0.3));\n",
              "      fill: #FFFFFF;\n",
              "    }\n",
              "  </style>\n",
              "\n",
              "      <script>\n",
              "        const buttonEl =\n",
              "          document.querySelector('#df-44cf219a-e956-4e90-8cb5-c65f5bfd0ab9 button.colab-df-convert');\n",
              "        buttonEl.style.display =\n",
              "          google.colab.kernel.accessAllowed ? 'block' : 'none';\n",
              "\n",
              "        async function convertToInteractive(key) {\n",
              "          const element = document.querySelector('#df-44cf219a-e956-4e90-8cb5-c65f5bfd0ab9');\n",
              "          const dataTable =\n",
              "            await google.colab.kernel.invokeFunction('convertToInteractive',\n",
              "                                                     [key], {});\n",
              "          if (!dataTable) return;\n",
              "\n",
              "          const docLinkHtml = 'Like what you see? Visit the ' +\n",
              "            '<a target=\"_blank\" href=https://colab.research.google.com/notebooks/data_table.ipynb>data table notebook</a>'\n",
              "            + ' to learn more about interactive tables.';\n",
              "          element.innerHTML = '';\n",
              "          dataTable['output_type'] = 'display_data';\n",
              "          await google.colab.output.renderOutput(dataTable, element);\n",
              "          const docLink = document.createElement('div');\n",
              "          docLink.innerHTML = docLinkHtml;\n",
              "          element.appendChild(docLink);\n",
              "        }\n",
              "      </script>\n",
              "    </div>\n",
              "  </div>\n"
            ]
          },
          "metadata": {},
          "execution_count": 51
        }
      ]
    },
    {
      "cell_type": "code",
      "source": [
        "ann_rets = pd.Series(rk.annualized_return(rets))\n",
        "ann_rets"
      ],
      "metadata": {
        "colab": {
          "base_uri": "https://localhost:8080/"
        },
        "id": "cv-jDCgJ6rCW",
        "outputId": "ff15f0fc-62ac-45da-aa1c-beda49725d3c"
      },
      "execution_count": 52,
      "outputs": [
        {
          "output_type": "execute_result",
          "data": {
            "text/plain": [
              "0    0.115153\n",
              "1    0.181390\n",
              "2    0.207978\n",
              "3    0.304086\n",
              "4    0.255364\n",
              "5    0.186167\n",
              "6    0.297781\n",
              "7    0.181018\n",
              "8    0.103063\n",
              "9    0.305176\n",
              "dtype: float64"
            ]
          },
          "metadata": {},
          "execution_count": 52
        }
      ]
    },
    {
      "cell_type": "code",
      "source": [
        "#plotting the annual returns of the assets\n",
        "column_names = price_data.columns\n",
        "ann_rets.index=column_names\n",
        "ann_rets.sort_values().plot.bar()"
      ],
      "metadata": {
        "colab": {
          "base_uri": "https://localhost:8080/",
          "height": 555
        },
        "id": "0VUi0ksg79kG",
        "outputId": "8ea42195-f82f-4e00-f18b-6b362c6d8b2b"
      },
      "execution_count": 53,
      "outputs": [
        {
          "output_type": "execute_result",
          "data": {
            "text/plain": [
              "<Axes: >"
            ]
          },
          "metadata": {},
          "execution_count": 53
        },
        {
          "output_type": "display_data",
          "data": {
            "text/plain": [
              "<Figure size 640x480 with 1 Axes>"
            ],
            "image/png": "[encoded data removed]"
          },
          "metadata": {}
        }
      ]
    },
    {
      "cell_type": "code",
      "source": [
        "#calculating weights to optimize for the maximum sharpe ratio using msr function from the risk module\n",
        "weights=rk.msr(0.03,ann_rets, cov_matrix)\n",
        "#return of the optimized portfolio\n",
        "r=rk.portfolio_return(weights,ann_rets)\n",
        "#volatility of the optimized portfolio\n",
        "vol=rk.portfolio_vol(weights,cov_matrix)"
      ],
      "metadata": {
        "id": "sFjJxr_N8agO"
      },
      "execution_count": 54,
      "outputs": []
    },
    {
      "cell_type": "code",
      "source": [
        "#PLotting the efficient frontier, and locating the portfolio having maximum Sharpe ratio\n",
        "rk.plot_ef(50, ann_rets, cov_matrix)\n",
        "#Plotting the line for returns of the risk free asset (risk free returns = 3%)\n",
        "x=[0,0.020]\n",
        "y=[0.03,0.020*(r-0.03)/vol+0.03]\n",
        "plt.title(\"Efficient Frontier\")\n",
        "plt.plot(x,y,label='Max sharpe portfolio',color=\"green\")\n",
        "plt.plot(vol,r, color='green', marker='.',markersize=10, markeredgecolor= 'blue',label=\"Maximum Sharpe Portfolio\")\n",
        "plt.ylabel(\"Returns\")\n",
        "plt.legend()\n",
        "plt.show()"
      ],
      "metadata": {
        "colab": {
          "base_uri": "https://localhost:8080/",
          "height": 472
        },
        "id": "UC1SizxJ8j5P",
        "outputId": "fd9adefb-6d98-400f-da1c-b5b912a966f7"
      },
      "execution_count": 55,
      "outputs": [
        {
          "output_type": "display_data",
          "data": {
            "text/plain": [
              "<Figure size 640x480 with 1 Axes>"
            ],
            "image/png": "[encoded data removed]"
          },
          "metadata": {}
        }
      ]
    },
    {
      "cell_type": "code",
      "source": [
        "sharpe = (r-0.03)/vol\n",
        "print(f\"The return of the portfolio is {r*100}%\")\n",
        "print(f\"The volatility of the portfolio is {vol*100}%\")\n",
        "print(f\"The Sharpe Ratio of the portfolio is {sharpe}\")"
      ],
      "metadata": {
        "colab": {
          "base_uri": "https://localhost:8080/"
        },
        "id": "zmWiMAWg8k4z",
        "outputId": "7d2d9141-25ef-4c19-e6d4-acec90ee5bdd"
      },
      "execution_count": 56,
      "outputs": [
        {
          "output_type": "stream",
          "name": "stdout",
          "text": [
            "The return of the portfolio is 26.515255825020528%\n",
            "The volatility of the portfolio is 1.184633442627884%\n",
            "The Sharpe Ratio of the portfolio is 19.850238038913037\n"
          ]
        }
      ]
    },
    {
      "cell_type": "markdown",
      "source": [
        "# CPPI"
      ],
      "metadata": {
        "id": "Hia3k5ozFPm_"
      }
    },
    {
      "cell_type": "code",
      "source": [
        "#Taking the same 10 assets as risky assets and using them as risky assets in CPPI\n",
        "df = rk.run_cppi( rets,safe_r=None, m=3, start=1000, floor=0.8, riskfree_rate=0.03, drawdown=None)"
      ],
      "metadata": {
        "id": "wPv-E1ANFQgI"
      },
      "execution_count": 57,
      "outputs": []
    },
    {
      "cell_type": "code",
      "source": [],
      "metadata": {
        "id": "xj3Gm9VKN_bL"
      },
      "execution_count": 61,
      "outputs": []
    },
    {
      "cell_type": "code",
      "source": [],
      "metadata": {
        "id": "daaOs5OhOCXD"
      },
      "execution_count": 60,
      "outputs": []
    }
  ]
}